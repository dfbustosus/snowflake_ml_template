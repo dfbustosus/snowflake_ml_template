{
 "metadata": {
  "language_info": {
   "name": "python"
  },
  "lastEditStatus": {
   "notebookId": "tjths47tiywmpzumfqi7",
   "authorId": "1325166941769",
   "authorName": "DAVIDUSTA",
   "authorEmail": "davidbustosusta@gmail.com",
   "sessionId": "e347030d-538f-4ebe-b1d8-82df05ab5df0",
   "lastEditTime": 1761522104578
  }
 },
 "nbformat_minor": 5,
 "nbformat": 4,
 "cells": [
  {
   "cell_type": "code",
   "execution_count": null,
   "id": "ee07d06b-a1f8-4e7c-b67f-57f3809dcc3b",
   "metadata": {
    "name": "cell1",
    "language": "python"
   },
   "outputs": [],
   "source": [
    "# We can also use Snowpark for our analyses!\n",
    "from snowflake.snowpark.context import get_active_session\n",
    "session = get_active_session()"
   ]
  },
  {
   "cell_type": "code",
   "id": "d29966d4-6e96-48b1-ae09-14bdba9c77cd",
   "metadata": {
    "language": "python",
    "name": "cell2"
   },
   "outputs": [],
   "source": "# See what database, schema, and warehouse you're using\nsession.get_current_database()\nsession.get_current_schema()\nsession.get_current_warehouse()\n\n# List available tables or views\nsession.sql(\"SHOW TABLES\").show()\nsession.sql(\"SHOW SCHEMAS\").show()",
   "execution_count": null
  }
 ]
}
