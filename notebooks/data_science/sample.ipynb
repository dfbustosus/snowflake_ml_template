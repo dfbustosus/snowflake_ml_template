{
 "cells": [
  {
   "cell_type": "code",
   "execution_count": null,
   "id": "92d8dc84",
   "metadata": {},
   "outputs": [],
   "source": [
    "# We can also use Snowpark for our analyses!\n",
    "from snowflake.snowpark.context import get_active_session\n",
    "session = get_active_session()"
   ]
  }
 ],
 "metadata": {
  "language_info": {
   "name": "python"
  }
 },
 "nbformat": 4,
 "nbformat_minor": 5
}
