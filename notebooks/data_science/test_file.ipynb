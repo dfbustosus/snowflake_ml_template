{
 "metadata": {
  "language_info": {
   "name": "python"
  },
  "lastEditStatus": {
   "notebookId": "7p7b2tajwctbghtvb6a7",
   "authorId": "1325166941769",
   "authorName": "DAVIDUSTA",
   "authorEmail": "davidbustosusta@gmail.com",
   "sessionId": "15c24009-d692-4ae5-a9ba-6bee821e425b",
   "lastEditTime": 1761595214842
  }
 },
 "nbformat_minor": 5,
 "nbformat": 4,
 "cells": [
  {
   "cell_type": "code",
   "execution_count": null,
   "id": "2c58d857-3d50-4bd8-a1a6-522df1c3d702",
   "metadata": {
    "vscode": {
     "languageId": "plaintext"
    },
    "name": "cell1",
    "language": "python"
   },
   "outputs": [],
   "source": "import os\nimport sys\nos.getcwd()"
  }
 ]
}