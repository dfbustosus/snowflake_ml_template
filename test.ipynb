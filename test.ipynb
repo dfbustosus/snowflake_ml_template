{
 "cells": [
  {
   "cell_type": "code",
   "execution_count": 13,
   "id": "9035dbd4",
   "metadata": {},
   "outputs": [
    {
     "name": "stdout",
     "output_type": "stream",
     "text": [
      "----------------------------------------------------------------------------------------------------------------------------------------------------------------------------------------------------------------------------------------------------------------------------------------------------------------------------------------------------------------------------------------------------------------------------------------------------------------------------------------------------------------------------------------------------------------------------------------------------------------------------------------------------------------------------\n",
      "|\"MONTH\"  |\"WEEKOFMONTH\"  |\"DAYOFWEEK\"  |\"MAKE\"  |\"ACCIDENTAREA\"  |\"DAYOFWEEKCLAIMED\"  |\"MONTHCLAIMED\"  |\"WEEKOFMONTHCLAIMED\"  |\"SEX\"   |\"MARITALSTATUS\"  |\"AGE\"  |\"FAULT\"        |\"POLICYTYPE\"          |\"VEHICLECATEGORY\"  |\"VEHICLEPRICE\"   |\"FRAUDFOUND_P\"  |\"POLICYNUMBER\"  |\"REPNUMBER\"  |\"DEDUCTIBLE\"  |\"DRIVERRATING\"  |\"DAYS_POLICY_ACCIDENT\"  |\"DAYS_POLICY_CLAIM\"  |\"PASTNUMBEROFCLAIMS\"  |\"AGEOFVEHICLE\"  |\"AGEOFPOLICYHOLDER\"  |\"POLICEREPORTFILED\"  |\"WITNESSPRESENT\"  |\"AGENTTYPE\"  |\"NUMBEROFSUPPLIMENTS\"  |\"ADDRESSCHANGE_CLAIM\"  |\"NUMBEROFCARS\"  |\"YEAR\"  |\"BASEPOLICY\"  |\"CREATED_AT\"                |\"CREATED_BY\"  |\"DATA_VERSION\"  |\"SOURCE_SYSTEM\"  |\n",
      "----------------------------------------------------------------------------------------------------------------------------------------------------------------------------------------------------------------------------------------------------------------------------------------------------------------------------------------------------------------------------------------------------------------------------------------------------------------------------------------------------------------------------------------------------------------------------------------------------------------------------------------------------------------------------\n",
      "|Dec      |5              |Wednesday    |Honda   |Urban           |Tuesday             |Jan             |1                     |Female  |Single           |21     |Policy Holder  |Sport - Liability     |Sport              |more than 69000  |0               |1               |12           |300           |1               |more than 30            |more than 30         |none                  |3 years         |26 to 30             |No                   |No                |External     |none                   |1 year                 |3 to 4          |1994    |Liability     |2025-10-22 10:48:58.462356  |DAVIDUSTA     |1.0.0           |CSV_IMPORT       |\n",
      "|Jan      |3              |Wednesday    |Honda   |Urban           |Monday              |Jan             |4                     |Male    |Single           |34     |Policy Holder  |Sport - Collision     |Sport              |more than 69000  |0               |2               |15           |400           |4               |more than 30            |more than 30         |none                  |6 years         |31 to 35             |Yes                  |No                |External     |none                   |no change              |1 vehicle       |1994    |Collision     |2025-10-22 10:48:58.462356  |DAVIDUSTA     |1.0.0           |CSV_IMPORT       |\n",
      "|Oct      |5              |Friday       |Honda   |Urban           |Thursday            |Nov             |2                     |Male    |Married          |47     |Policy Holder  |Sport - Collision     |Sport              |more than 69000  |0               |3               |7            |400           |3               |more than 30            |more than 30         |1                     |7 years         |41 to 50             |No                   |No                |External     |none                   |no change              |1 vehicle       |1994    |Collision     |2025-10-22 10:48:58.462356  |DAVIDUSTA     |1.0.0           |CSV_IMPORT       |\n",
      "|Jun      |2              |Saturday     |Toyota  |Rural           |Friday              |Jul             |1                     |Male    |Married          |65     |Third Party    |Sedan - Liability     |Sport              |20000 to 29000   |0               |4               |4            |400           |2               |more than 30            |more than 30         |1                     |more than 7     |51 to 65             |Yes                  |No                |External     |more than 5            |no change              |1 vehicle       |1994    |Liability     |2025-10-22 10:48:58.462356  |DAVIDUSTA     |1.0.0           |CSV_IMPORT       |\n",
      "|Jan      |5              |Monday       |Honda   |Urban           |Tuesday             |Feb             |2                     |Female  |Single           |27     |Third Party    |Sport - Collision     |Sport              |more than 69000  |0               |5               |3            |400           |1               |more than 30            |more than 30         |none                  |5 years         |31 to 35             |No                   |No                |External     |none                   |no change              |1 vehicle       |1994    |Collision     |2025-10-22 10:48:58.462356  |DAVIDUSTA     |1.0.0           |CSV_IMPORT       |\n",
      "|Oct      |4              |Friday       |Honda   |Urban           |Wednesday           |Nov             |1                     |Male    |Single           |20     |Third Party    |Sport - Collision     |Sport              |more than 69000  |0               |6               |12           |400           |3               |more than 30            |more than 30         |none                  |5 years         |21 to 25             |No                   |No                |External     |3 to 5                 |no change              |1 vehicle       |1994    |Collision     |2025-10-22 10:48:58.462356  |DAVIDUSTA     |1.0.0           |CSV_IMPORT       |\n",
      "|Feb      |1              |Saturday     |Honda   |Urban           |Monday              |Feb             |3                     |Male    |Married          |36     |Third Party    |Sport - Collision     |Sport              |more than 69000  |0               |7               |14           |400           |1               |more than 30            |more than 30         |1                     |7 years         |36 to 40             |No                   |No                |External     |1 to 2                 |no change              |1 vehicle       |1994    |Collision     |2025-10-22 10:48:58.462356  |DAVIDUSTA     |1.0.0           |CSV_IMPORT       |\n",
      "|Nov      |1              |Friday       |Honda   |Urban           |Tuesday             |Mar             |4                     |Male    |Single           |0      |Policy Holder  |Sport - Collision     |Sport              |more than 69000  |0               |8               |1            |400           |4               |more than 30            |more than 30         |1                     |new             |16 to 17             |No                   |No                |External     |none                   |no change              |1 vehicle       |1994    |Collision     |2025-10-22 10:48:58.462356  |DAVIDUSTA     |1.0.0           |CSV_IMPORT       |\n",
      "|Dec      |4              |Saturday     |Honda   |Urban           |Wednesday           |Dec             |5                     |Male    |Single           |30     |Policy Holder  |Sport - Collision     |Sport              |more than 69000  |0               |9               |7            |400           |4               |more than 30            |more than 30         |none                  |6 years         |31 to 35             |No                   |Yes               |External     |3 to 5                 |no change              |1 vehicle       |1994    |Collision     |2025-10-22 10:48:58.462356  |DAVIDUSTA     |1.0.0           |CSV_IMPORT       |\n",
      "|Apr      |3              |Tuesday      |Ford    |Urban           |Wednesday           |Apr             |3                     |Male    |Married          |42     |Policy Holder  |Utility - All Perils  |Utility            |more than 69000  |0               |10              |7            |400           |1               |more than 30            |more than 30         |2 to 4                |more than 7     |36 to 40             |No                   |No                |External     |3 to 5                 |no change              |1 vehicle       |1994    |All Perils    |2025-10-22 10:48:58.462356  |DAVIDUSTA     |1.0.0           |CSV_IMPORT       |\n",
      "----------------------------------------------------------------------------------------------------------------------------------------------------------------------------------------------------------------------------------------------------------------------------------------------------------------------------------------------------------------------------------------------------------------------------------------------------------------------------------------------------------------------------------------------------------------------------------------------------------------------------------------------------------------------------\n",
      "\n"
     ]
    }
   ],
   "source": [
    "import os\n",
    "from dotenv import load_dotenv\n",
    "from snowflake.snowpark import Session\n",
    "\n",
    "load_dotenv()\n",
    "\n",
    "connection_parameters = {\n",
    "    \"account\": os.getenv(\"SNOWFLAKE_ACCOUNT\"),\n",
    "    \"user\": os.getenv(\"SNOWFLAKE_USER\"),\n",
    "    \"password\": os.getenv(\"SNOWFLAKE_PASSWORD\"),\n",
    "    \"role\": os.getenv(\"SNOWFLAKE_ROLE\"),\n",
    "    \"warehouse\": os.getenv(\"SNOWFLAKE_WAREHOUSE\"),\n",
    "    \"database\": os.getenv(\"SNOWFLAKE_DATABASE\"),\n",
    "    \"schema\": \"FEATURES\",\n",
    "}\n",
    "\n",
    "session = Session.builder.configs(connection_parameters).create()\n",
    "\n",
    "table_name = f\"{os.getenv('SNOWFLAKE_DATABASE')}.RAW_DATA.INSURANCE_CLAIMS\"\n",
    "df = session.table(table_name)#.to_pandas()\n",
    "df.show()"
   ]
  },
  {
   "cell_type": "code",
   "execution_count": 9,
   "id": "ee241c9b",
   "metadata": {},
   "outputs": [
    {
     "name": "stdout",
     "output_type": "stream",
     "text": [
      "---------\n",
      "|\"AGE\"  |\n",
      "---------\n",
      "|21     |\n",
      "|34     |\n",
      "|47     |\n",
      "|65     |\n",
      "|27     |\n",
      "|20     |\n",
      "|36     |\n",
      "|NULL   |\n",
      "|30     |\n",
      "|42     |\n",
      "---------\n",
      "\n"
     ]
    }
   ],
   "source": [
    "from snowflake.snowpark.functions import avg, col, count, lit, when\n",
    "df.with_column(\n",
    "        \"AGE\",\n",
    "        when((col(\"AGE\") <= 0) | (col(\"AGE\") > 120), lit(None)).otherwise(\n",
    "            col(\"AGE\").cast(\"int\")\n",
    "        ),\n",
    ").select(\"AGE\").show()"
   ]
  }
 ],
 "metadata": {
  "kernelspec": {
   "display_name": "venv",
   "language": "python",
   "name": "python3"
  },
  "language_info": {
   "codemirror_mode": {
    "name": "ipython",
    "version": 3
   },
   "file_extension": ".py",
   "mimetype": "text/x-python",
   "name": "python",
   "nbconvert_exporter": "python",
   "pygments_lexer": "ipython3",
   "version": "3.10.18"
  }
 },
 "nbformat": 4,
 "nbformat_minor": 5
}
